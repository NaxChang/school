{
 "cells": [
  {
   "cell_type": "code",
   "execution_count": null,
   "metadata": {},
   "outputs": [],
   "source": [
    "import time  # 首先控制秒數,需要import time\n",
    "\n",
    "# 模擬 LED 引腳\n",
    "led_pins = [25, 23]  # 剛才有說LED放在引腳的25,還有23\n",
    "\n",
    "while True:  # 緊接著,不定迴圈\n",
    "    for pin in led_pins:  # 接著我用for迴圈去迭代\n",
    "        print(f\"LED {pin} ON\")  # 讓它印出顯示on的狀態\n",
    "        time.sleep(1)  # 模擬 LED 亮起 1秒之後\n",
    "        print(f\"LED {pin} OFF\")  # 讓它印出顯示off的狀態\n",
    "        time.sleep(1)  # 模擬 LED 熄滅後等待 1 秒"
   ]
  },
  {
   "cell_type": "code",
   "execution_count": null,
   "metadata": {},
   "outputs": [],
   "source": [
    "import time # 首先控制秒數,需要import time\n",
    "\n",
    "# 模擬 LED 引腳\n",
    "led_pins = [25, 23]  # 剛才有說LED放在引腳的25,還有23\n",
    " \n",
    "while True: #緊接著,不定迴圈\n",
    "    for pin in led_pins:  # 接著我用for迴圈去迭代\n",
    "        print(f\"LED {pin} ON\") # 讓它印出顯示on的狀態\n",
    "        time.sleep(1)  # 模擬 LED 亮起 1秒之後\n",
    "        print(f\"LED {pin} OFF\") # 讓它印出顯示off的狀態\n",
    "        time.sleep(1)  # 模擬 LED 熄滅後等待 1 秒"
   ]
  },
  {
   "cell_type": "code",
   "execution_count": null,
   "metadata": {},
   "outputs": [],
   "source": [
    "from time import sleep\n",
    "#sleep 函數用於使程式暫停（或「睡眠」）指定的時間。這\n",
    "# 是一個簡單的方法來引入延遲或讓程式在一定時間內不執行任何操作。\n",
    "\n",
    "print(\"開始\")\n",
    "sleep(3)  # 程式會在這裡暫停 3 秒鐘\n",
    "print(\"結束\")\n"
   ]
  },
  {
   "cell_type": "code",
   "execution_count": null,
   "metadata": {},
   "outputs": [],
   "source": [
    "from gpiozero import LED  # (新增) 首先我要去import LED\n",
    "from time import sleep  # (不變)\n",
    "\n",
    "led_pins = [25, 23]\n",
    "leds = []  # 創建空列表 (可以改寫),給它一個空串列\n",
    "for pin in led_pins:  # 接著去找值\n",
    "    leds.append(LED(pin))  # 最後附加進去\n",
    "\n",
    "while True:\n",
    "    for led in leds:\n",
    "        led.on()\n",
    "        sleep(1)\n",
    "        led.off()\n",
    "        sleep(1)"
   ]
  },
  {
   "cell_type": "code",
   "execution_count": null,
   "metadata": {},
   "outputs": [],
   "source": [
    "from gpiozero import LED, Button\n",
    "from time import sleep\n",
    "import signal\n",
    "\n",
    "# 定義 LED 引腳和按鈕引腳\n",
    "led_pins = [25, 17]\n",
    "button_pin = 18\n",
    "\n",
    "# 初始化 LED 和按鈕\n",
    "leds = [LED(pin) for pin in led_pins]\n",
    "button = Button(button_pin)\n",
    "\n",
    "# 主循環\n",
    "while True:\n",
    "    if button.is_pressed:\n",
    "        for led in leds:\n",
    "            led.on()\n",
    "            sleep(2)  # 模擬 LED 亮起 2 秒\n",
    "            led.off()\n",
    "            sleep(1.5)  # 模擬 LED 熄滅後等待 1.5 秒"
   ]
  },
  {
   "cell_type": "code",
   "execution_count": null,
   "metadata": {},
   "outputs": [],
   "source": [
    "from gpiozero import LED, Button  # 新增 Button 模組\n",
    "from time import sleep\n",
    "\n",
    "led_pins = [25, 23]\n",
    "leds = []  # 創建空列表\n",
    "running = True  # 設定初始狀態為運行\n",
    "\n",
    "for pin in led_pins:  # 初始化 LED 並加入列表\n",
    "    leds.append(LED(pin))\n",
    "\n",
    "button = Button(18)  # 設定按鈕連接到 GPIO 18\n",
    "\n",
    "\n",
    "def stop_loop():  # 定義一個函數來中止迴圈\n",
    "    global running\n",
    "    running = False\n",
    "\n",
    "\n",
    "button.when_pressed = stop_loop  # 當按鈕被按下時，呼叫 stop_loop\n",
    "\n",
    "\n",
    "while running:  # 只要 running 為 True 就保持迴圈運行\n",
    "    for led in leds:\n",
    "        led.on()\n",
    "        sleep(1)\n",
    "        led.off()\n",
    "        sleep(1)"
   ]
  }
 ],
 "metadata": {
  "kernelspec": {
   "display_name": "myenv",
   "language": "python",
   "name": "python3"
  },
  "language_info": {
   "name": "python",
   "version": "3.12.3"
  }
 },
 "nbformat": 4,
 "nbformat_minor": 2
}
